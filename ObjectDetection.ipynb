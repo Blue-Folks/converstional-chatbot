{
  "nbformat": 4,
  "nbformat_minor": 0,
  "metadata": {
    "colab": {
      "provenance": []
    },
    "kernelspec": {
      "name": "python3",
      "display_name": "Python 3"
    },
    "language_info": {
      "name": "python"
    }
  },
  "cells": [
    {
      "cell_type": "code",
      "execution_count": 6,
      "metadata": {
        "colab": {
          "base_uri": "https://localhost:8080/"
        },
        "id": "74D-ZDDrSbo0",
        "outputId": "27a05cf0-ec7d-477c-b003-a5746a723ede"
      },
      "outputs": [
        {
          "output_type": "stream",
          "name": "stdout",
          "text": [
            "Collecting google-ai-haystack\n",
            "  Downloading google_ai_haystack-2.0.0-py3-none-any.whl.metadata (1.8 kB)\n",
            "Requirement already satisfied: google-generativeai>=0.3.1 in /usr/local/lib/python3.10/dist-packages (from google-ai-haystack) (0.7.2)\n",
            "Requirement already satisfied: haystack-ai in /usr/local/lib/python3.10/dist-packages (from google-ai-haystack) (2.5.1)\n",
            "Requirement already satisfied: google-ai-generativelanguage==0.6.6 in /usr/local/lib/python3.10/dist-packages (from google-generativeai>=0.3.1->google-ai-haystack) (0.6.6)\n",
            "Requirement already satisfied: google-api-core in /usr/local/lib/python3.10/dist-packages (from google-generativeai>=0.3.1->google-ai-haystack) (2.19.2)\n",
            "Requirement already satisfied: google-api-python-client in /usr/local/lib/python3.10/dist-packages (from google-generativeai>=0.3.1->google-ai-haystack) (2.137.0)\n",
            "Requirement already satisfied: google-auth>=2.15.0 in /usr/local/lib/python3.10/dist-packages (from google-generativeai>=0.3.1->google-ai-haystack) (2.27.0)\n",
            "Requirement already satisfied: protobuf in /usr/local/lib/python3.10/dist-packages (from google-generativeai>=0.3.1->google-ai-haystack) (3.20.3)\n",
            "Requirement already satisfied: pydantic in /usr/local/lib/python3.10/dist-packages (from google-generativeai>=0.3.1->google-ai-haystack) (2.9.1)\n",
            "Requirement already satisfied: tqdm in /usr/local/lib/python3.10/dist-packages (from google-generativeai>=0.3.1->google-ai-haystack) (4.66.5)\n",
            "Requirement already satisfied: typing-extensions in /usr/local/lib/python3.10/dist-packages (from google-generativeai>=0.3.1->google-ai-haystack) (4.12.2)\n",
            "Requirement already satisfied: proto-plus<2.0.0dev,>=1.22.3 in /usr/local/lib/python3.10/dist-packages (from google-ai-generativelanguage==0.6.6->google-generativeai>=0.3.1->google-ai-haystack) (1.24.0)\n",
            "Requirement already satisfied: haystack-experimental in /usr/local/lib/python3.10/dist-packages (from haystack-ai->google-ai-haystack) (0.1.1)\n",
            "Requirement already satisfied: jinja2 in /usr/local/lib/python3.10/dist-packages (from haystack-ai->google-ai-haystack) (3.1.4)\n",
            "Requirement already satisfied: lazy-imports in /usr/local/lib/python3.10/dist-packages (from haystack-ai->google-ai-haystack) (0.3.1)\n",
            "Requirement already satisfied: more-itertools in /usr/local/lib/python3.10/dist-packages (from haystack-ai->google-ai-haystack) (10.3.0)\n",
            "Requirement already satisfied: networkx in /usr/local/lib/python3.10/dist-packages (from haystack-ai->google-ai-haystack) (3.3)\n",
            "Requirement already satisfied: numpy<2 in /usr/local/lib/python3.10/dist-packages (from haystack-ai->google-ai-haystack) (1.26.4)\n",
            "Requirement already satisfied: openai>=1.1.0 in /usr/local/lib/python3.10/dist-packages (from haystack-ai->google-ai-haystack) (1.45.0)\n",
            "Requirement already satisfied: pandas in /usr/local/lib/python3.10/dist-packages (from haystack-ai->google-ai-haystack) (2.1.4)\n",
            "Requirement already satisfied: posthog in /usr/local/lib/python3.10/dist-packages (from haystack-ai->google-ai-haystack) (3.6.5)\n",
            "Requirement already satisfied: python-dateutil in /usr/local/lib/python3.10/dist-packages (from haystack-ai->google-ai-haystack) (2.8.2)\n",
            "Requirement already satisfied: pyyaml in /usr/local/lib/python3.10/dist-packages (from haystack-ai->google-ai-haystack) (6.0.2)\n",
            "Requirement already satisfied: requests in /usr/local/lib/python3.10/dist-packages (from haystack-ai->google-ai-haystack) (2.32.3)\n",
            "Requirement already satisfied: tenacity!=8.4.0 in /usr/local/lib/python3.10/dist-packages (from haystack-ai->google-ai-haystack) (9.0.0)\n",
            "Requirement already satisfied: googleapis-common-protos<2.0.dev0,>=1.56.2 in /usr/local/lib/python3.10/dist-packages (from google-api-core->google-generativeai>=0.3.1->google-ai-haystack) (1.65.0)\n",
            "Requirement already satisfied: cachetools<6.0,>=2.0.0 in /usr/local/lib/python3.10/dist-packages (from google-auth>=2.15.0->google-generativeai>=0.3.1->google-ai-haystack) (5.5.0)\n",
            "Requirement already satisfied: pyasn1-modules>=0.2.1 in /usr/local/lib/python3.10/dist-packages (from google-auth>=2.15.0->google-generativeai>=0.3.1->google-ai-haystack) (0.4.1)\n",
            "Requirement already satisfied: rsa<5,>=3.1.4 in /usr/local/lib/python3.10/dist-packages (from google-auth>=2.15.0->google-generativeai>=0.3.1->google-ai-haystack) (4.9)\n",
            "Requirement already satisfied: anyio<5,>=3.5.0 in /usr/local/lib/python3.10/dist-packages (from openai>=1.1.0->haystack-ai->google-ai-haystack) (3.7.1)\n",
            "Requirement already satisfied: distro<2,>=1.7.0 in /usr/lib/python3/dist-packages (from openai>=1.1.0->haystack-ai->google-ai-haystack) (1.7.0)\n",
            "Requirement already satisfied: httpx<1,>=0.23.0 in /usr/local/lib/python3.10/dist-packages (from openai>=1.1.0->haystack-ai->google-ai-haystack) (0.27.2)\n",
            "Requirement already satisfied: jiter<1,>=0.4.0 in /usr/local/lib/python3.10/dist-packages (from openai>=1.1.0->haystack-ai->google-ai-haystack) (0.5.0)\n",
            "Requirement already satisfied: sniffio in /usr/local/lib/python3.10/dist-packages (from openai>=1.1.0->haystack-ai->google-ai-haystack) (1.3.1)\n",
            "Requirement already satisfied: annotated-types>=0.6.0 in /usr/local/lib/python3.10/dist-packages (from pydantic->google-generativeai>=0.3.1->google-ai-haystack) (0.7.0)\n",
            "Requirement already satisfied: pydantic-core==2.23.3 in /usr/local/lib/python3.10/dist-packages (from pydantic->google-generativeai>=0.3.1->google-ai-haystack) (2.23.3)\n",
            "Requirement already satisfied: charset-normalizer<4,>=2 in /usr/local/lib/python3.10/dist-packages (from requests->haystack-ai->google-ai-haystack) (3.3.2)\n",
            "Requirement already satisfied: idna<4,>=2.5 in /usr/local/lib/python3.10/dist-packages (from requests->haystack-ai->google-ai-haystack) (3.8)\n",
            "Requirement already satisfied: urllib3<3,>=1.21.1 in /usr/local/lib/python3.10/dist-packages (from requests->haystack-ai->google-ai-haystack) (2.0.7)\n",
            "Requirement already satisfied: certifi>=2017.4.17 in /usr/local/lib/python3.10/dist-packages (from requests->haystack-ai->google-ai-haystack) (2024.8.30)\n",
            "Requirement already satisfied: httplib2<1.dev0,>=0.19.0 in /usr/local/lib/python3.10/dist-packages (from google-api-python-client->google-generativeai>=0.3.1->google-ai-haystack) (0.22.0)\n",
            "Requirement already satisfied: google-auth-httplib2<1.0.0,>=0.2.0 in /usr/local/lib/python3.10/dist-packages (from google-api-python-client->google-generativeai>=0.3.1->google-ai-haystack) (0.2.0)\n",
            "Requirement already satisfied: uritemplate<5,>=3.0.1 in /usr/local/lib/python3.10/dist-packages (from google-api-python-client->google-generativeai>=0.3.1->google-ai-haystack) (4.1.1)\n",
            "Requirement already satisfied: MarkupSafe>=2.0 in /usr/local/lib/python3.10/dist-packages (from jinja2->haystack-ai->google-ai-haystack) (2.1.5)\n",
            "Requirement already satisfied: pytz>=2020.1 in /usr/local/lib/python3.10/dist-packages (from pandas->haystack-ai->google-ai-haystack) (2024.2)\n",
            "Requirement already satisfied: tzdata>=2022.1 in /usr/local/lib/python3.10/dist-packages (from pandas->haystack-ai->google-ai-haystack) (2024.1)\n",
            "Requirement already satisfied: six>=1.5 in /usr/local/lib/python3.10/dist-packages (from python-dateutil->haystack-ai->google-ai-haystack) (1.16.0)\n",
            "Requirement already satisfied: monotonic>=1.5 in /usr/local/lib/python3.10/dist-packages (from posthog->haystack-ai->google-ai-haystack) (1.6)\n",
            "Requirement already satisfied: backoff>=1.10.0 in /usr/local/lib/python3.10/dist-packages (from posthog->haystack-ai->google-ai-haystack) (2.2.1)\n",
            "Requirement already satisfied: exceptiongroup in /usr/local/lib/python3.10/dist-packages (from anyio<5,>=3.5.0->openai>=1.1.0->haystack-ai->google-ai-haystack) (1.2.2)\n",
            "Requirement already satisfied: grpcio<2.0dev,>=1.33.2 in /usr/local/lib/python3.10/dist-packages (from google-api-core[grpc]!=2.0.*,!=2.1.*,!=2.10.*,!=2.2.*,!=2.3.*,!=2.4.*,!=2.5.*,!=2.6.*,!=2.7.*,!=2.8.*,!=2.9.*,<3.0.0dev,>=1.34.1->google-ai-generativelanguage==0.6.6->google-generativeai>=0.3.1->google-ai-haystack) (1.64.1)\n",
            "Requirement already satisfied: grpcio-status<2.0.dev0,>=1.33.2 in /usr/local/lib/python3.10/dist-packages (from google-api-core[grpc]!=2.0.*,!=2.1.*,!=2.10.*,!=2.2.*,!=2.3.*,!=2.4.*,!=2.5.*,!=2.6.*,!=2.7.*,!=2.8.*,!=2.9.*,<3.0.0dev,>=1.34.1->google-ai-generativelanguage==0.6.6->google-generativeai>=0.3.1->google-ai-haystack) (1.48.2)\n",
            "Requirement already satisfied: pyparsing!=3.0.0,!=3.0.1,!=3.0.2,!=3.0.3,<4,>=2.4.2 in /usr/local/lib/python3.10/dist-packages (from httplib2<1.dev0,>=0.19.0->google-api-python-client->google-generativeai>=0.3.1->google-ai-haystack) (3.1.4)\n",
            "Requirement already satisfied: httpcore==1.* in /usr/local/lib/python3.10/dist-packages (from httpx<1,>=0.23.0->openai>=1.1.0->haystack-ai->google-ai-haystack) (1.0.5)\n",
            "Requirement already satisfied: h11<0.15,>=0.13 in /usr/local/lib/python3.10/dist-packages (from httpcore==1.*->httpx<1,>=0.23.0->openai>=1.1.0->haystack-ai->google-ai-haystack) (0.14.0)\n",
            "Requirement already satisfied: pyasn1<0.7.0,>=0.4.6 in /usr/local/lib/python3.10/dist-packages (from pyasn1-modules>=0.2.1->google-auth>=2.15.0->google-generativeai>=0.3.1->google-ai-haystack) (0.6.1)\n",
            "Downloading google_ai_haystack-2.0.0-py3-none-any.whl (12 kB)\n",
            "Installing collected packages: google-ai-haystack\n",
            "Successfully installed google-ai-haystack-2.0.0\n"
          ]
        }
      ],
      "source": [
        "!pip install google-ai-haystack"
      ]
    },
    {
      "cell_type": "code",
      "source": [
        "from google.colab import userdata\n",
        "from haystack.dataclasses.byte_stream import ByteStream\n",
        "from haystack_integrations.components.generators.google_ai import GoogleAIGeminiGenerator\n",
        "import requests\n",
        "from PIL import Image"
      ],
      "metadata": {
        "id": "I_Ak1yFfSoF-"
      },
      "execution_count": 170,
      "outputs": []
    },
    {
      "cell_type": "code",
      "source": [
        "os.environ[\"GOOGLE_API_KEY\"] = userdata.get('MY_GEMINI_API_KEY')"
      ],
      "metadata": {
        "id": "V-c9gWhAXB28"
      },
      "execution_count": 116,
      "outputs": []
    },
    {
      "cell_type": "code",
      "source": [
        "templates = \"\"\"\n",
        "Given the following images, for each image list all the objects within that image one by one with their bounding boxes and generate a detailed description of the image.\n",
        "{{ image }}\n",
        "Image Description:\n",
        "\n",
        "Please provide:\n",
        "1. A list of all objects present in the image with their boundary boxes.\n",
        "2. A basic description of the each object image, including context or any notable details.\n",
        "\n",
        "Output format:\n",
        "- Image Number: [Image Number]\n",
        "- Object 1: [Object Name] - [Bounding Box Coordinates]\n",
        "- Object 2: [Object Name] - [Bounding Box Coordinates]\n",
        "- etc.,\n",
        "- Description: [Brief description of the image]\n",
        "\n",
        "\"\"\""
      ],
      "metadata": {
        "id": "qIOyW1yTW1iM"
      },
      "execution_count": 158,
      "outputs": []
    },
    {
      "cell_type": "code",
      "source": [
        "file_path = ['/content/robot1.png','/content/animals.jpg','/content/download.jfif']\n",
        "images = [\n",
        "    ByteStream(data=open(path, \"rb\").read(), mime_type=\"image/jpeg\")\n",
        "    for path in file_path\n",
        "]"
      ],
      "metadata": {
        "id": "dBNlpsA9dYjs"
      },
      "execution_count": 189,
      "outputs": []
    },
    {
      "cell_type": "code",
      "source": [
        "print(len(images))"
      ],
      "metadata": {
        "colab": {
          "base_uri": "https://localhost:8080/"
        },
        "id": "sogJ_9p-_JVI",
        "outputId": "b65be879-d044-4375-8e8d-059b8b222344"
      },
      "execution_count": 190,
      "outputs": [
        {
          "output_type": "stream",
          "name": "stdout",
          "text": [
            "3\n"
          ]
        }
      ]
    },
    {
      "cell_type": "code",
      "source": [
        "gemini = GoogleAIGeminiGenerator(model=\"gemini-1.5-flash\")\n",
        "result = gemini.run(parts = [templates, *images])\n",
        "for answer in result[\"replies\"]:\n",
        "  print(answer)"
      ],
      "metadata": {
        "colab": {
          "base_uri": "https://localhost:8080/",
          "height": 887
        },
        "id": "0iN5Xd_2yOso",
        "outputId": "346356da-4b80-49b0-cf84-47f097e85b08"
      },
      "execution_count": 191,
      "outputs": [
        {
          "output_type": "stream",
          "name": "stdout",
          "text": [
            "1\n",
            "- Image Number: 1\n",
            "- Object 1: C-3PO - [108, 178, 904, 707]\n",
            "- Object 2: R2-D2 - [334, 497, 924, 903]\n",
            "- Description:  C-3PO, a golden droid, stands with his hand resting on the dome of R2-D2. Both droids are in a desert environment with a faded, washed-out background. \n",
            "\n",
            "- Image Number: 2\n",
            "- Object 1: Elephant - [79, 13, 220, 217]\n",
            "- Object 2: Duck - [66, 229, 153, 344]\n",
            "- Object 3: Rooster - [56, 364, 170, 472]\n",
            "- Object 4: Chicken - [143, 469, 216, 540]\n",
            "- Object 5: Cat - [55, 561, 147, 680]\n",
            "- Object 6: Dog - [64, 709, 174, 913]\n",
            "- Object 7: Lion - [260, 34, 360, 220]\n",
            "- Object 8: Pig - [241, 269, 342, 410]\n",
            "- Object 9: Cow - [248, 441, 395, 656]\n",
            "- Object 10: Giraffe - [261, 690, 522, 839]\n",
            "- Object 11: Toucan - [269, 864, 344, 959]\n",
            "- Object 12: Owl - [389, 48, 484, 147]\n",
            "- Object 13: Monkey - [393, 174, 501, 275]\n",
            "- Object 14: Flamingo - [419, 289, 532, 386]\n",
            "- Object 15: Bear - [423, 420, 561, 594]\n",
            "- Object 16: Goat - [495, 616, 584, 738]\n",
            "- Object 17: Horse - [594, 758, 725, 956]\n",
            "- Object 18: Dolphin - [588, 202, 709, 458]\n",
            "- Object 19: Penguin - [733, 30, 895, 172]\n",
            "- Object 20: Seagull - [764, 209, 852, 317]\n",
            "- Object 21: Tiger - [673, 358, 805, 497]\n",
            "- Object 22: Crocodile - [692, 519, 778, 690]\n",
            "- Object 23: Parrot - [777, 862, 916, 967]\n",
            "- Description: A collection of cartoon animals are arranged in a loose formation against a white background. The animals are stylized and have simple, colorful outlines. \n",
            "\n",
            "- Image Number: 3\n",
            "- Object 1: Elephant - [431, 393, 762, 587]\n",
            "- Object 2: Giraffe - [192, 560, 441, 793]\n",
            "- Object 3: Tiger - [489, 284, 704, 407]\n",
            "- Object 4: Deer - [398, 22, 572, 124]\n",
            "- Object 5: Giraffe - [186, 776, 422, 990]\n",
            "- Object 6: Elephant - [441, 700, 764, 881]\n",
            "- Object 7: Tiger - [629, 839, 791, 955]\n",
            "- Object 8: Deer - [558, 640, 712, 724]\n",
            "- Object 9: Deer - [717, 110, 860, 196]\n",
            "- Object 10: Bird - [245, 420, 272, 478]\n",
            "- Object 11: Bird - [240, 732, 266, 792]\n",
            "- Object 12: Bird - [261, 861, 289, 926]\n",
            "- Object 13: Bird - [320, 337, 346, 398]\n",
            "- Object 14: Bird - [299, 903, 329, 974]\n",
            "- Object 15: Bird - [198, 393, 220, 455]\n",
            "- Description: A group of various animals, including elephants, giraffes, tigers, and deer, are arranged together on a white background. There are also several birds flying above the group of animals.\n"
          ]
        }
      ]
    },
    {
      "cell_type": "code",
      "source": [
        "print(result)"
      ],
      "metadata": {
        "colab": {
          "base_uri": "https://localhost:8080/"
        },
        "id": "9e6SaPZW9Zll",
        "outputId": "892b566c-f670-4233-ae8f-cb5b5d44eed3"
      },
      "execution_count": 145,
      "outputs": [
        {
          "output_type": "stream",
          "name": "stdout",
          "text": [
            "{'replies': ['- Image 1\\n- Object 1: Elephant - [33, 26, 294, 317]\\n- Object 2: Chicken - [72, 415, 227, 508]\\n- Object 3: Chicken - [74, 526, 220, 621]\\n- Object 4: Bird - [85, 298, 225, 409]\\n- Object 5: Bird - [159, 626, 226, 696]\\n- Object 6: Cat - [71, 705, 238, 794]\\n- Object 7: Dog - [53, 806, 257, 948]\\n- Object 8: Lion - [308, 23, 486, 236]\\n- Object 9: Pig - [268, 288, 415, 446]\\n- Object 10: Cow - [249, 477, 527, 721]\\n- Object 11: Flamingo - [387, 245, 741, 372]\\n- Object 12: Bear - [437, 364, 679, 575]\\n- Object 13: Goat - [527, 572, 725, 733]\\n- Object 14: Giraffe - [253, 747, 710, 962]\\n- Object 15: Bird - [317, 853, 432, 952]\\n- Object 16: Bird - [444, 899, 515, 971]\\n- Object 17: Monkey - [481, 148, 648, 263]\\n- Object 18: Dolphin - [642, 95, 862, 358]\\n- Object 19: Penguin - [738, 29, 925, 138]\\n- Object 20: Tiger - [701, 372, 981, 509]\\n- Object 21: Crocodile - [730, 495, 874, 714]\\n- Object 22: Horse - [602, 714, 917, 917]\\n- Object 23: Bird - [865, 241, 966, 343]\\n- Object 24: Bird - [757, 884, 954, 972]\\n- Description: This image is an illustrated collection of various animals, such as a lion, elephant, cow, tiger, giraffe, flamingo, and bear. They are all drawn in a cartoon style, with bright colors and simple shapes. The animals are arranged in a seemingly random fashion, with no clear theme or story. They are all smiling and looking happy, as if they are all friends.']}\n"
          ]
        }
      ]
    }
  ]
}