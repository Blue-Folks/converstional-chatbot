{
 "cells": [
  {
   "cell_type": "code",
   "execution_count": 1,
   "metadata": {},
   "outputs": [],
   "source": [
    "# %pip install pypdf haystack \"sentence-transformers>=3.0.0\" google-ai-haystack python-dotenv"
   ]
  },
  {
   "cell_type": "code",
   "execution_count": 2,
   "metadata": {},
   "outputs": [
    {
     "data": {
      "text/plain": [
       "True"
      ]
     },
     "execution_count": 2,
     "metadata": {},
     "output_type": "execute_result"
    }
   ],
   "source": [
    "from dotenv import load_dotenv\n",
    "import os\n",
    "\n",
    "load_dotenv()"
   ]
  },
  {
   "cell_type": "code",
   "execution_count": 3,
   "metadata": {},
   "outputs": [
    {
     "name": "stderr",
     "output_type": "stream",
     "text": [
      "d:\\SIH\\myenv\\lib\\site-packages\\tqdm\\auto.py:21: TqdmWarning: IProgress not found. Please update jupyter and ipywidgets. See https://ipywidgets.readthedocs.io/en/stable/user_install.html\n",
      "  from .autonotebook import tqdm as notebook_tqdm\n"
     ]
    }
   ],
   "source": [
    "from haystack_integrations.components.generators.google_ai import (\n",
    "    GoogleAIGeminiGenerator,\n",
    ")\n",
    "from haystack.components.retrievers.in_memory import InMemoryEmbeddingRetriever\n",
    "from haystack.components.embedders import SentenceTransformersDocumentEmbedder\n",
    "from haystack.components.embedders import SentenceTransformersTextEmbedder\n",
    "from haystack.components.builders.prompt_builder import PromptBuilder\n",
    "from haystack.document_stores.in_memory import InMemoryDocumentStore\n",
    "from haystack.components.preprocessors import DocumentSplitter\n",
    "from haystack.components.preprocessors import DocumentCleaner\n",
    "from haystack.components.converters import PyPDFToDocument\n",
    "from haystack.components.writers import DocumentWriter\n",
    "from haystack import Pipeline"
   ]
  },
  {
   "cell_type": "code",
   "execution_count": 4,
   "metadata": {},
   "outputs": [
    {
     "data": {
      "text/plain": [
       "True"
      ]
     },
     "execution_count": 4,
     "metadata": {},
     "output_type": "execute_result"
    }
   ],
   "source": [
    "file_path1 = r\"D:\\SIH\\documentation\\hello_file.txt\"\n",
    "file_path2 = \"D:\\SIH\\documentation\\progit.pdf\"\n",
    "\n",
    "from pathlib import Path\n",
    "\n",
    "Path(file_path2).exists()"
   ]
  },
  {
   "cell_type": "code",
   "execution_count": 5,
   "metadata": {},
   "outputs": [],
   "source": [
    "context_template = \"\"\"\n",
    "Given the following information, answer the question.\n",
    "Context: {{ context }}\n",
    "Question: {{ question }}\n",
    "\"\"\"\n",
    "query_template = \"{{ question }}?\""
   ]
  },
  {
   "cell_type": "code",
   "execution_count": 15,
   "metadata": {},
   "outputs": [],
   "source": [
    "document_splitter = DocumentSplitter(\n",
    "    split_by=\"word\", split_length=400, split_overlap=50\n",
    ")\n",
    "embedder = SentenceTransformersDocumentEmbedder(model=\"all-MiniLM-L6-v2\")\n",
    "document_store = InMemoryDocumentStore(embedding_similarity_function=\"cosine\")\n",
    "writer = DocumentWriter(document_store=document_store)"
   ]
  },
  {
   "cell_type": "code",
   "execution_count": 16,
   "metadata": {},
   "outputs": [
    {
     "name": "stderr",
     "output_type": "stream",
     "text": [
      "Batches: 100%|██████████| 13/13 [00:10<00:00,  1.28it/s]\n"
     ]
    },
    {
     "data": {
      "text/plain": [
       "{'writer': {'documents_written': 388}}"
      ]
     },
     "execution_count": 16,
     "metadata": {},
     "output_type": "execute_result"
    }
   ],
   "source": [
    "pipeline = Pipeline()\n",
    "\n",
    "\n",
    "pipeline.add_component(\"converter\", PyPDFToDocument())\n",
    "pipeline.add_component(\"cleaner\", DocumentCleaner())\n",
    "pipeline.add_component(\"splitter\", document_splitter)\n",
    "pipeline.add_component(\"embedder\", embedder)\n",
    "pipeline.add_component(\"writer\", writer)\n",
    "\n",
    "pipeline.connect(\"converter\", \"cleaner\")\n",
    "pipeline.connect(\"cleaner\", \"splitter\")\n",
    "pipeline.connect(\"splitter\", \"embedder\")\n",
    "pipeline.connect(\"embedder\", \"writer\")\n",
    "\n",
    "\n",
    "pipeline.run({\"converter\": {\"sources\": [file_path2]}})"
   ]
  },
  {
   "cell_type": "code",
   "execution_count": 17,
   "metadata": {},
   "outputs": [],
   "source": [
    "document_retriever = InMemoryEmbeddingRetriever(document_store=document_store)\n",
    "query_embedder = SentenceTransformersTextEmbedder(model=\"all-MiniLM-L6-v2\")"
   ]
  },
  {
   "cell_type": "code",
   "execution_count": 10,
   "metadata": {},
   "outputs": [],
   "source": [
    "query = \"what is git?\""
   ]
  },
  {
   "cell_type": "code",
   "execution_count": 18,
   "metadata": {},
   "outputs": [
    {
     "name": "stderr",
     "output_type": "stream",
     "text": [
      "Batches: 100%|██████████| 1/1 [00:00<00:00, 53.36it/s]"
     ]
    },
    {
     "name": "stdout",
     "output_type": "stream",
     "text": [
      "[Document(id=e6bbe1a198c135da5cf8a235d188521e527803243e3b7afa3e98fe22eac3407b, content: 'to use it to find more\n",
      "information about the git shell in Setting Up the Server .\n",
      "Getting and Creati...', meta: {'file_path': 'D:\\\\SIH\\\\documentation\\\\progit.pdf', 'source_id': '12ab6505563397319cfb5f16535d4bc178ff46b6492082fa86cc721182b676da', 'page_number': 486, 'split_id': 374, 'split_idx_start': 840772, '_split_overlap': [{'doc_id': '9218483da56dab9e8fda03788d11c371c76c775197900555a4f424887080b93c', 'range': (2878, 3148)}, {'doc_id': 'e441f05866a6b3b971e5ba14fe2e6b36552dc0ac8dd66186938207b69c1dffc3', 'range': (0, 286)}]}, score: 0.6621929776398874), Document(id=42d84c34f49822a65ccc2f4382e15033f7a8be1b2842ec17ab87873b6cd62f8d, content: 'how Git stores its\n",
      "objects, what the object model is, details of packfiles, server protocols, and mo...', meta: {'file_path': 'D:\\\\SIH\\\\documentation\\\\progit.pdf', 'source_id': '12ab6505563397319cfb5f16535d4bc178ff46b6492082fa86cc721182b676da', 'page_number': 15, 'split_id': 31, 'split_idx_start': 32561, '_split_overlap': [{'doc_id': '96282cbb8e0425adc92fac8218200c62022757ba055c5b7962af2e0c78aee1f8', 'range': (2171, 2459)}, {'doc_id': '4d9ad8c8f8afc83170924e07b4dfa639a97ae1bbb2e4744a5fc1afb82204202c', 'range': (0, 276)}]}, score: 0.6488467873671766), Document(id=a3ea9ce75c18aecf8f6160c26e07aaa334d118ec49795c045c7f870c7da553e2, content: 'this technology and feel more comfortable using Git in more advanced ways.\n",
      "452\fAppendix A: Git in Ot...', meta: {'file_path': 'D:\\\\SIH\\\\documentation\\\\progit.pdf', 'source_id': '12ab6505563397319cfb5f16535d4bc178ff46b6492082fa86cc721182b676da', 'page_number': 458, 'split_id': 355, 'split_idx_start': 792170, '_split_overlap': [{'doc_id': '16d3ff2e3770ef477d82b98abcab5c6b94b1ac3ea6aa7dd08d5a0e1015cadc1e', 'range': (2275, 2576)}, {'doc_id': '8ae6bbb8e67fa9d6ef46011422a5b91516ed86425cd45c146424fc1294664890', 'range': (0, 313)}]}, score: 0.6316240392859513), Document(id=e94ed89f4e9ec07c03f438a878c528c9f1601d008daba8864744d999484b2c57, content: 'of the first things you did was set up your name and email address:\n",
      "$ git config --global user.name ...', meta: {'file_path': 'D:\\\\SIH\\\\documentation\\\\progit.pdf', 'source_id': '12ab6505563397319cfb5f16535d4bc178ff46b6492082fa86cc721182b676da', 'page_number': 342, 'split_id': 261, 'split_idx_start': 560079, '_split_overlap': [{'doc_id': 'f4d72bb7720e00c0ecfc2b4b24e4835601b07871b0bf2c2642af1788a9a90279', 'range': (2474, 2786)}, {'doc_id': 'c23183b4042db8e4be0e8b5d2454e1597dcf5c23bf0ff37254852f7c3d1e8f2c', 'range': (0, 297)}]}, score: 0.6246748379349623), Document(id=3eb020ca5ce8a6b7f325d6865ad28a4fc948163fc58427a58509aff2fc3eb748, content: '. . . . . . . . 14\n",
      "What is Git? . . . . . . . . . . . . . . . . . . . . . . . . . . . . . . . . . . ...', meta: {'file_path': 'D:\\\\SIH\\\\documentation\\\\progit.pdf', 'source_id': '12ab6505563397319cfb5f16535d4bc178ff46b6492082fa86cc721182b676da', 'page_number': 3, 'split_id': 2, 'split_idx_start': 1591, '_split_overlap': [{'doc_id': '1948016909fa2433e421adec3f1f17f22e21e254be424067b29ec30dec458f09', 'range': (762, 872)}, {'doc_id': '86c0342d5ccc8454af6f1f6ac198cd22f3c5d67d908eb7a5062a4f90bbbcf97f', 'range': (0, 109)}]}, score: 0.6215222919763116), Document(id=86cff3586e73e5f9e97462716b43abc57a824374e5e9f24ce59149f2d9165b84, content: 'part in a huge community, which is valuable no matter which\n",
      "Git host you decide to use for your own ...', meta: {'file_path': 'D:\\\\SIH\\\\documentation\\\\progit.pdf', 'source_id': '12ab6505563397319cfb5f16535d4bc178ff46b6492082fa86cc721182b676da', 'page_number': 8, 'split_id': 27, 'split_idx_start': 22779, '_split_overlap': [{'doc_id': 'da23f3bcabd503832bcb6fe6ce1a9e0720d9bf429445dd85abf3cfae89165718', 'range': (2015, 2300)}, {'doc_id': '50213d6b26561dffc6e428814c3467ef895765a05f88a527499f701404660b1b', 'range': (0, 399)}]}, score: 0.6176355535206668), Document(id=ffd5729d7e78cf5303aac54c1034e40979a7e939d759cfae4dc31ac7d7a5dddc, content: 'feature,” and it certainly sets Git apart in\n",
      "the VCS community. Why is it so special? The way Git br...', meta: {'file_path': 'D:\\\\SIH\\\\documentation\\\\progit.pdf', 'source_id': '12ab6505563397319cfb5f16535d4bc178ff46b6492082fa86cc721182b676da', 'page_number': 69, 'split_id': 74, 'split_idx_start': 130953, '_split_overlap': [{'doc_id': '5c808201b857ed62095d5be373b41aa560722594efd123b105614739c9a5d13a', 'range': (2294, 2646)}, {'doc_id': 'cee400f353071fcb4d875d91c7ea6ee9a4c8baa8069dc20e8a95751c469dfe2f', 'range': (0, 312)}]}, score: 0.6110841830652134), Document(id=984654bd4a081a5dc8d02b887ff13002715f3375a77a4a6306201595d2f80c92, content: 'development community (and in particular Linus Torvalds,\n",
      "the creator of Linux) to develop their own ...', meta: {'file_path': 'D:\\\\SIH\\\\documentation\\\\progit.pdf', 'source_id': '12ab6505563397319cfb5f16535d4bc178ff46b6492082fa86cc721182b676da', 'page_number': 20, 'split_id': 34, 'split_idx_start': 39101, '_split_overlap': [{'doc_id': '4cf238b769c932e5d4cb1a35166e60fc7f431d5c1307d408e34c9201c09669ae', 'range': (2330, 2701)}, {'doc_id': '3a262c8cab4ca558acab7d971ef7af16bb0653e86d2787fa88454e229d5681c6', 'range': (0, 296)}]}, score: 0.6103749981895562), Document(id=3005689807884f029e74089d14a3ac21ab123648c26b380c1125471801a9594c, content: 'the gamut from specialized, single-\n",
      "purpose tools all the way to apps that try to expose everything ...', meta: {'file_path': 'D:\\\\SIH\\\\documentation\\\\progit.pdf', 'source_id': '12ab6505563397319cfb5f16535d4bc178ff46b6492082fa86cc721182b676da', 'page_number': 464, 'split_id': 359, 'split_idx_start': 800987, '_split_overlap': [{'doc_id': '1c518f8bb422888dfd9173eebc0b678df9c55e29e3ccc5319b9c0173b55df486', 'range': (2228, 2671)}, {'doc_id': '1660deaa56925e21c88cf5ccf2291ae0905a60813ad6cdb038b24a4e17dae26c', 'range': (0, 388)}]}, score: 0.6095850771682515), Document(id=1f28795f66d7adaaae2fd9ee77b7b896e629db5e4c53d62366434dda0793b646, content: 'cac0cab538b970a37ea1e769cbbde608743bc96d\n",
      "Author: Scott Chacon <schacon@gmail.com>\n",
      "Date: Fri May 22 1...', meta: {'file_path': 'D:\\\\SIH\\\\documentation\\\\progit.pdf', 'source_id': '12ab6505563397319cfb5f16535d4bc178ff46b6492082fa86cc721182b676da', 'page_number': 428, 'split_id': 331, 'split_idx_start': 729129, '_split_overlap': [{'doc_id': 'edff09d3b48dd308578f44a46fcf5aa9ef5386281d43b702bb0c04f13455cf9f', 'range': (2518, 2935)}, {'doc_id': 'da3a8ee0a2fcd5687a1bc46186c2db5ee8e5ab689f6c1437e271ddd1e2fa7109', 'range': (0, 387)}]}, score: 0.6070092911525898)]\n"
     ]
    },
    {
     "name": "stderr",
     "output_type": "stream",
     "text": [
      "\n"
     ]
    }
   ],
   "source": [
    "retrieve_pipeline = Pipeline()\n",
    "retrieve_pipeline.add_component(\"text_embedder\", query_embedder)\n",
    "retrieve_pipeline.add_component(\"retriever\", document_retriever)\n",
    "\n",
    "retrieve_pipeline.connect(\"text_embedder.embedding\", \"retriever.query_embedding\")\n",
    "\n",
    "relevant_documents = retrieve_pipeline.run({\"text_embedder\": {\"text\": query}})\n",
    "print(relevant_documents[\"retriever\"][\"documents\"])"
   ]
  },
  {
   "cell_type": "code",
   "execution_count": 12,
   "metadata": {},
   "outputs": [],
   "source": [
    "# similarity_ranker = TransformersSimilarityRanker(top_k=3)\n",
    "os.environ[\"GOOGLE_API_KEY\"] = os.getenv(\"GOOGLE_API_KEY\")\n",
    "response_generator = GoogleAIGeminiGenerator(model=\"gemini-1.5-flash\")\n",
    "context_prompt_builder = PromptBuilder(template=context_template)\n",
    "query_prompt_builder = PromptBuilder(template=query_template)"
   ]
  },
  {
   "cell_type": "code",
   "execution_count": 13,
   "metadata": {},
   "outputs": [
    {
     "data": {
      "text/plain": [
       "<haystack.core.pipeline.pipeline.Pipeline object at 0x0000029DED787A30>\n",
       "🚅 Components\n",
       "  - context_prompt: PromptBuilder\n",
       "  - query_prompt: PromptBuilder\n",
       "  - response_generator: GoogleAIGeminiGenerator\n",
       "🛤️ Connections\n",
       "  - context_prompt.prompt -> response_generator.parts (str)\n",
       "  - query_prompt.prompt -> context_prompt.question (str)"
      ]
     },
     "execution_count": 13,
     "metadata": {},
     "output_type": "execute_result"
    }
   ],
   "source": [
    "query_pipeline = Pipeline()\n",
    "\n",
    "query_pipeline.add_component(\"context_prompt\", context_prompt_builder)\n",
    "query_pipeline.add_component(\"query_prompt\", query_prompt_builder)\n",
    "query_pipeline.add_component(\"response_generator\", response_generator)\n",
    "\n",
    "query_pipeline.connect(\"query_prompt\", \"context_prompt.question\")\n",
    "query_pipeline.connect(\"context_prompt\", \"response_generator\")"
   ]
  },
  {
   "cell_type": "code",
   "execution_count": 19,
   "metadata": {},
   "outputs": [
    {
     "name": "stdout",
     "output_type": "stream",
     "text": [
      "{'response_generator': {'replies': ['The provided documents don\\'t directly answer \"What is Git?\" but they offer information about Git\\'s functions and its use in version control. Here\\'s what we can glean from them:\\n\\n* **Git is a version control system (VCS)**: This is stated directly in some documents, like the one that mentions it being \"special\" and setting it apart in the VCS community.\\n* **Git is used for tracking changes in code:** This is implied in the documents that talk about \"objects,\" \"packfiles,\" and \"server protocols.\"  These are terms related to how Git stores and manages code history.\\n* **Git is powerful and has many advanced features:**  Documents mention using Git in \"advanced ways\" and its use by the \"Linux development community.\"  \\n\\n**In a nutshell:** Git is a powerful system designed to track changes in code, making it easier for developers to collaborate and manage project history. \\n']}}\n"
     ]
    }
   ],
   "source": [
    "rag_response = query_pipeline.run(\n",
    "    {\n",
    "        \"context_prompt\": {\"context\": relevant_documents[\"retriever\"][\"documents\"]},\n",
    "        \"query_prompt\": {\"question\": query},\n",
    "    }\n",
    ")\n",
    "print(rag_response)"
   ]
  },
  {
   "cell_type": "code",
   "execution_count": 21,
   "metadata": {},
   "outputs": [
    {
     "name": "stdout",
     "output_type": "stream",
     "text": [
      "The provided documents don't directly answer \"What is Git?\" but they offer information about Git's functions and its use in version control. Here's what we can glean from them:\n",
      "\n",
      "* **Git is a version control system (VCS)**: This is stated directly in some documents, like the one that mentions it being \"special\" and setting it apart in the VCS community.\n",
      "* **Git is used for tracking changes in code:** This is implied in the documents that talk about \"objects,\" \"packfiles,\" and \"server protocols.\"  These are terms related to how Git stores and manages code history.\n",
      "* **Git is powerful and has many advanced features:**  Documents mention using Git in \"advanced ways\" and its use by the \"Linux development community.\"  \n",
      "\n",
      "**In a nutshell:** Git is a powerful system designed to track changes in code, making it easier for developers to collaborate and manage project history. \n",
      "\n"
     ]
    }
   ],
   "source": [
    "print(rag_response[\"response_generator\"][\"replies\"][0])"
   ]
  }
 ],
 "metadata": {
  "kernelspec": {
   "display_name": "Python 3",
   "language": "python",
   "name": "python3"
  },
  "language_info": {
   "codemirror_mode": {
    "name": "ipython",
    "version": 3
   },
   "file_extension": ".py",
   "mimetype": "text/x-python",
   "name": "python",
   "nbconvert_exporter": "python",
   "pygments_lexer": "ipython3",
   "version": "3.9.12"
  }
 },
 "nbformat": 4,
 "nbformat_minor": 2
}
